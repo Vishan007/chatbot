{
 "cells": [
  {
   "cell_type": "code",
   "execution_count": 134,
   "id": "8456800d",
   "metadata": {},
   "outputs": [],
   "source": [
    "import re\n",
    "import pandas as pd\n",
    "import json\n",
    "from typing import List\n",
    "with open(r'C:\\Users\\gaikw\\Desktop\\Data Science\\chatbot\\data\\intents.json','r') as read:\n",
    "    data = json.load(read)"
   ]
  },
  {
   "cell_type": "code",
   "execution_count": 135,
   "id": "ec6efdb0",
   "metadata": {},
   "outputs": [],
   "source": [
    "sentence =[]\n",
    "tags =[]\n",
    "response = []\n",
    "labels = []\n",
    "for intent in data['intents']:\n",
    "    for i in intent['patterns']:\n",
    "        sentence.append(i)\n",
    "        tags.append(intent['tag'])\n",
    "    response.append(intent['responses'])\n",
    "    if intent['tag'] not in labels:\n",
    "        labels.append(intent['tag'])"
   ]
  },
  {
   "cell_type": "code",
   "execution_count": 168,
   "id": "bf46d638",
   "metadata": {},
   "outputs": [],
   "source": [
    "def clean_list(sent:List) -> List:\n",
    "    import re\n",
    "    from wordcloud import STOPWORDS\n",
    "    \"\"\"\n",
    "    This function will help nin cleaning all the unneccarry characters in the list of strings.\n",
    "    \"\"\"\n",
    "    pattern = '[?]'\n",
    "    sent = list(map(lambda x : x.lower() , sent))\n",
    "    sent = list(map(lambda x : re.sub(pattern,'',x),sent))\n",
    "    sent = list(map(lambda x : [''.join(i) for i in x.split() if i not in STOPWORDS] , sent))\n",
    "    return sent"
   ]
  },
  {
   "cell_type": "code",
   "execution_count": 177,
   "id": "4e919ff2",
   "metadata": {},
   "outputs": [],
   "source": [
    "s=clean_list(sentence)\n",
    "*s, = s"
   ]
  },
  {
   "cell_type": "code",
   "execution_count": null,
   "id": "2f832a86",
   "metadata": {},
   "outputs": [],
   "source": []
  },
  {
   "cell_type": "markdown",
   "id": "90f3d649",
   "metadata": {},
   "source": [
    "## Label encoding"
   ]
  },
  {
   "cell_type": "code",
   "execution_count": null,
   "id": "c6f98e92",
   "metadata": {},
   "outputs": [],
   "source": [
    "class LabelEncoder():\n",
    "    def __init__():\n",
    "        "
   ]
  },
  {
   "cell_type": "code",
   "execution_count": 138,
   "id": "c8047249",
   "metadata": {},
   "outputs": [
    {
     "data": {
      "text/plain": [
       "['hi']"
      ]
     },
     "execution_count": 138,
     "metadata": {},
     "output_type": "execute_result"
    }
   ],
   "source": [
    "'hi'.split()"
   ]
  },
  {
   "cell_type": "code",
   "execution_count": null,
   "id": "d191cbb2",
   "metadata": {},
   "outputs": [],
   "source": []
  }
 ],
 "metadata": {
  "kernelspec": {
   "display_name": "Python 3 (ipykernel)",
   "language": "python",
   "name": "python3"
  },
  "language_info": {
   "codemirror_mode": {
    "name": "ipython",
    "version": 3
   },
   "file_extension": ".py",
   "mimetype": "text/x-python",
   "name": "python",
   "nbconvert_exporter": "python",
   "pygments_lexer": "ipython3",
   "version": "3.10.9"
  }
 },
 "nbformat": 4,
 "nbformat_minor": 5
}
